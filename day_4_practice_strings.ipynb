{
 "cells": [
  {
   "cell_type": "code",
   "execution_count": null,
   "id": "0bd8df8b",
   "metadata": {},
   "outputs": [
    {
     "name": "stdout",
     "output_type": "stream",
     "text": [
      "Thirty Days Of Python\n"
     ]
    }
   ],
   "source": [
    "#1 Concatenate the string 'Thirty', 'Days', 'Of', 'Python' to a single string, 'Thirty Days Of Python'.\n",
    "\n",
    "practice_1 = ['Thirty', 'Days', 'Of', 'Python']\n",
    "result_1 = ' '.join(practice_1)\n",
    "\n",
    "print(result_1)"
   ]
  },
  {
   "cell_type": "code",
   "execution_count": null,
   "id": "dcdf18af",
   "metadata": {},
   "outputs": [
    {
     "name": "stdout",
     "output_type": "stream",
     "text": [
      "Coding For All\n"
     ]
    }
   ],
   "source": [
    "#2 Concatenate the string 'Coding', 'For' , 'All' to a single string, 'Coding For All'.\n",
    "\n",
    "practice_2 = [ 'Coding', 'For' , 'All']\n",
    "result_2 = ' '.join(practice_2)\n",
    "\n",
    "print(result_2)"
   ]
  },
  {
   "cell_type": "code",
   "execution_count": null,
   "id": "77a68bdf",
   "metadata": {},
   "outputs": [
    {
     "name": "stdout",
     "output_type": "stream",
     "text": [
      "Coding For All\n",
      "14\n"
     ]
    }
   ],
   "source": [
    "#3 Declare a variable named company and assign it to an initial value \"Coding For All\"\n",
    "#4 Print the variable company using print()\n",
    "#5 Print the length of the company string using len() method and print()\n",
    "\n",
    "company = 'Coding For All'\n",
    "print(company)\n",
    "print(len(company))"
   ]
  },
  {
   "cell_type": "code",
   "execution_count": null,
   "id": "b7ead5ea",
   "metadata": {},
   "outputs": [
    {
     "name": "stdout",
     "output_type": "stream",
     "text": [
      "CODING FOR ALL\n"
     ]
    }
   ],
   "source": [
    "#6 Change all the characters to uppercase letters using upper() method.\n",
    "\n",
    "print(company.upper())"
   ]
  },
  {
   "cell_type": "code",
   "execution_count": null,
   "id": "facb13e4",
   "metadata": {},
   "outputs": [
    {
     "name": "stdout",
     "output_type": "stream",
     "text": [
      "coding for all\n"
     ]
    }
   ],
   "source": [
    "#7 Change all the characters to lowercase letters using lower() method\n",
    "\n",
    "print(company.lower())"
   ]
  },
  {
   "cell_type": "code",
   "execution_count": null,
   "id": "e12083f2",
   "metadata": {},
   "outputs": [
    {
     "name": "stdout",
     "output_type": "stream",
     "text": [
      "Coding for all\n",
      "Coding For All\n",
      "cODING fOR aLL\n"
     ]
    }
   ],
   "source": [
    "#8 Use capitalize(), title(), swapcase() methods to format the value of the string Coding For All.\n",
    "\n",
    "print(company.capitalize())\n",
    "print(company.title())\n",
    "print(company.swapcase())"
   ]
  },
  {
   "cell_type": "code",
   "execution_count": null,
   "id": "4030a1f0",
   "metadata": {},
   "outputs": [
    {
     "name": "stdout",
     "output_type": "stream",
     "text": [
      "oding For All\n"
     ]
    }
   ],
   "source": [
    "#9 Cut(slice) out the first word of Coding For All string\n",
    "\n",
    "print(company.strip(company[0]))"
   ]
  },
  {
   "cell_type": "code",
   "execution_count": null,
   "id": "29465a4c",
   "metadata": {},
   "outputs": [
    {
     "name": "stdout",
     "output_type": "stream",
     "text": [
      "0\n"
     ]
    }
   ],
   "source": [
    "#10 Check if Coding For All string contains a word Coding using the method index, find or other methods\n",
    "\n",
    "print(company.find('Coding'))"
   ]
  },
  {
   "cell_type": "code",
   "execution_count": null,
   "id": "44ec28c4",
   "metadata": {},
   "outputs": [
    {
     "name": "stdout",
     "output_type": "stream",
     "text": [
      "coding For All\n"
     ]
    }
   ],
   "source": [
    "#11 Replace the word coding in the string 'Coding For All' to Python\n",
    "\n",
    "print(company.replace('Coding','coding'))"
   ]
  },
  {
   "cell_type": "code",
   "execution_count": 15,
   "id": "ff098523",
   "metadata": {},
   "outputs": [
    {
     "name": "stdout",
     "output_type": "stream",
     "text": [
      "Python for Everyone\n"
     ]
    }
   ],
   "source": [
    "#12 Change Python for Everyone to Python for All using the replace method or other methods.\n",
    "\n",
    "practice_12 = 'Python for Everyone'\n",
    "\n",
    "print(company.replace(company,practice_12))"
   ]
  },
  {
   "cell_type": "code",
   "execution_count": 17,
   "id": "11c9128a",
   "metadata": {},
   "outputs": [
    {
     "name": "stdout",
     "output_type": "stream",
     "text": [
      "['Coding', 'For', 'All']\n"
     ]
    }
   ],
   "source": [
    "#13 Split the string 'Coding For All' using space as the separator (split())\n",
    "\n",
    "print(company.split(' '))"
   ]
  },
  {
   "cell_type": "code",
   "execution_count": 19,
   "id": "935330fc",
   "metadata": {},
   "outputs": [
    {
     "name": "stdout",
     "output_type": "stream",
     "text": [
      "['Facebook', ' Google', ' Microsoft', ' Apple', ' IBM', ' Oracle', ' Amazon']\n"
     ]
    }
   ],
   "source": [
    "#14 \"Facebook, Google, Microsoft, Apple, IBM, Oracle, Amazon\" split the string at the comma\n",
    "\n",
    "practice_14 = \"Facebook, Google, Microsoft, Apple, IBM, Oracle, Amazon\"\n",
    "\n",
    "print(practice_14.split(','))"
   ]
  },
  {
   "cell_type": "code",
   "execution_count": null,
   "id": "c23e5d5a",
   "metadata": {},
   "outputs": [
    {
     "name": "stdout",
     "output_type": "stream",
     "text": [
      "C\n"
     ]
    }
   ],
   "source": [
    "#15 What is the character at index 0 in the string Coding For All\n",
    "\n",
    "print(company[0])"
   ]
  },
  {
   "cell_type": "code",
   "execution_count": 24,
   "id": "6f858219",
   "metadata": {},
   "outputs": [
    {
     "name": "stdout",
     "output_type": "stream",
     "text": [
      "l\n"
     ]
    }
   ],
   "source": [
    "#16 What is the last index of the string Coding For All\n",
    "\n",
    "print(company[-1]) "
   ]
  },
  {
   "cell_type": "code",
   "execution_count": 25,
   "id": "09cd375f",
   "metadata": {},
   "outputs": [
    {
     "name": "stdout",
     "output_type": "stream",
     "text": [
      " \n"
     ]
    }
   ],
   "source": [
    "#17 What character is at index 10 in \"Coding For All\" string\n",
    "\n",
    "print(company[10])"
   ]
  },
  {
   "cell_type": "code",
   "execution_count": 28,
   "id": "565a7734",
   "metadata": {},
   "outputs": [
    {
     "name": "stdout",
     "output_type": "stream",
     "text": [
      "0\n",
      "7\n",
      "13\n"
     ]
    }
   ],
   "source": [
    "#20 Use index to determine the position of the first occurrence of C in Coding For All\n",
    "#21 Use index to determine the position of the first occurrence of F in Coding For All\n",
    "#22 Use rfind to determine the position of the last occurrence of l in Coding For All People\n",
    "\n",
    "print(company.index('C'))\n",
    "print(company.index('F'))\n",
    "print(company.rindex('l'))\n"
   ]
  },
  {
   "cell_type": "code",
   "execution_count": null,
   "id": "f33c99b8",
   "metadata": {},
   "outputs": [
    {
     "name": "stdout",
     "output_type": "stream",
     "text": [
      "31\n"
     ]
    }
   ],
   "source": [
    "#23 Use index or find to find the position of the first occurrence of the word 'because' in the following sentence: \n",
    "# 'You cannot end a sentence with because because because is a conjunction'\n",
    "\n",
    "practice_23 = 'You cannot end a sentence with because because because is a conjunction'\n",
    "practice_23_1 = 'because'\n",
    "\n",
    "print(practice_23.find(practice_23_1))"
   ]
  },
  {
   "cell_type": "code",
   "execution_count": 30,
   "id": "43e678c5",
   "metadata": {},
   "outputs": [
    {
     "name": "stdout",
     "output_type": "stream",
     "text": [
      "47\n"
     ]
    }
   ],
   "source": [
    "#24 rindex\n",
    "\n",
    "print(practice_23.rindex(practice_23_1))"
   ]
  },
  {
   "cell_type": "code",
   "execution_count": 32,
   "id": "4b18291e",
   "metadata": {},
   "outputs": [
    {
     "name": "stdout",
     "output_type": "stream",
     "text": [
      "because because because\n"
     ]
    }
   ],
   "source": [
    "#25 Slice out the phrase 'because because because' in the following sentence: 'You cannot end a sentence with because because because is a conjunction'\n",
    "\n",
    "print(practice_23[31:54])"
   ]
  },
  {
   "cell_type": "code",
   "execution_count": 34,
   "id": "0956882f",
   "metadata": {},
   "outputs": [
    {
     "name": "stdout",
     "output_type": "stream",
     "text": [
      "True\n",
      "False\n"
     ]
    }
   ],
   "source": [
    "#28 Does ''Coding For All' start with a substring Coding?\n",
    "#29 Does 'Coding For All' end with a substring coding?\n",
    "\n",
    "print(company.startswith('Coding'))\n",
    "print(company.endswith('Coding'))"
   ]
  },
  {
   "cell_type": "code",
   "execution_count": 35,
   "id": "9b4b0800",
   "metadata": {},
   "outputs": [
    {
     "name": "stdout",
     "output_type": "stream",
     "text": [
      "Coding For All\n"
     ]
    }
   ],
   "source": [
    "#30 '   Coding For All      '  , remove the left and right trailing spaces in the given string\n",
    "\n",
    "practice_30 = '   Coding For All      '\n",
    "\n",
    "print(practice_30.strip(' '))"
   ]
  },
  {
   "cell_type": "code",
   "execution_count": 36,
   "id": "1dcd8fbd",
   "metadata": {},
   "outputs": [
    {
     "name": "stdout",
     "output_type": "stream",
     "text": [
      "False\n",
      "True\n"
     ]
    }
   ],
   "source": [
    "#31 \n",
    "\n",
    "practice_31 = '30DaysOfPython'\n",
    "practice_31_1 = 'thirty_days_of_python'\n",
    "\n",
    "print(practice_31.isidentifier())\n",
    "print(practice_31_1.isidentifier())"
   ]
  },
  {
   "cell_type": "code",
   "execution_count": 38,
   "id": "c71fcfb0",
   "metadata": {},
   "outputs": [
    {
     "name": "stdout",
     "output_type": "stream",
     "text": [
      "Django Flask Bottle Pyramid Falcon\n",
      "Django#Flask#Bottle#Pyramid#Falcon\n"
     ]
    }
   ],
   "source": [
    "#32 The following list contains the names of some of python libraries: ['Django', 'Flask', 'Bottle', 'Pyramid', 'Falcon']. Join the list with a hash with space string\n",
    "\n",
    "practice_32 = ['Django', 'Flask', 'Bottle', 'Pyramid', 'Falcon']\n",
    "result_32 = ' '.join(practice_32)\n",
    "result_32_1 = '#'.join(practice_32)\n",
    "\n",
    "print(result_32)\n",
    "print(result_32_1)\n"
   ]
  },
  {
   "cell_type": "code",
   "execution_count": 40,
   "id": "23ff3e82",
   "metadata": {},
   "outputs": [
    {
     "name": "stdout",
     "output_type": "stream",
     "text": [
      "I\n",
      "am\n",
      "enjoying\n",
      "this\n",
      "challenge\n"
     ]
    }
   ],
   "source": [
    "print('I\\nam\\nenjoying\\nthis\\nchallenge')"
   ]
  },
  {
   "cell_type": "code",
   "execution_count": 47,
   "id": "02cea4f7",
   "metadata": {},
   "outputs": [
    {
     "name": "stdout",
     "output_type": "stream",
     "text": [
      "Name\t        Age\tCountry\t    City\n",
      "Asabeneh\t250\tFinland\t    Helsinki\n"
     ]
    }
   ],
   "source": [
    "print('Name\\t        Age\\tCountry\\t    City')\n",
    "print('Asabeneh\\t250\\tFinland\\t    Helsinki')"
   ]
  },
  {
   "cell_type": "code",
   "execution_count": 51,
   "id": "52341a56",
   "metadata": {},
   "outputs": [
    {
     "name": "stdout",
     "output_type": "stream",
     "text": [
      "The area of a circle with radius 10 is 314 meters square\n"
     ]
    }
   ],
   "source": [
    "#35 \n",
    "\n",
    "radius = 10\n",
    "area = 3.14 * radius **2\n",
    "\n",
    "sentence = 'The area of a circle with radius {} is {:.0f} meters square'.format(radius,area)\n",
    "\n",
    "print(sentence)"
   ]
  },
  {
   "cell_type": "code",
   "execution_count": null,
   "id": "eace31b3",
   "metadata": {},
   "outputs": [
    {
     "name": "stdout",
     "output_type": "stream",
     "text": [
      "8 + 6 = 14\n",
      "8 - 6 = 2\n"
     ]
    }
   ],
   "source": [
    "#36 string formatting\n",
    "a = 8\n",
    "b = 6\n",
    "\n",
    "print(f'{a} + {b} = {a+b}')\n",
    "print(f'{a} - {b} = {a-b}')"
   ]
  },
  {
   "cell_type": "code",
   "execution_count": null,
   "id": "3693f0a2",
   "metadata": {},
   "outputs": [],
   "source": []
  },
  {
   "cell_type": "code",
   "execution_count": null,
   "id": "8e594498",
   "metadata": {},
   "outputs": [],
   "source": []
  },
  {
   "cell_type": "code",
   "execution_count": null,
   "id": "89db8a7b",
   "metadata": {},
   "outputs": [],
   "source": []
  },
  {
   "cell_type": "code",
   "execution_count": null,
   "id": "67533825",
   "metadata": {},
   "outputs": [],
   "source": []
  },
  {
   "cell_type": "code",
   "execution_count": null,
   "id": "d181ec96",
   "metadata": {},
   "outputs": [],
   "source": []
  },
  {
   "cell_type": "code",
   "execution_count": null,
   "id": "590f94cd",
   "metadata": {},
   "outputs": [],
   "source": []
  },
  {
   "cell_type": "code",
   "execution_count": null,
   "id": "eb54d3c0",
   "metadata": {},
   "outputs": [],
   "source": []
  },
  {
   "cell_type": "code",
   "execution_count": null,
   "id": "94a3ec4a",
   "metadata": {},
   "outputs": [],
   "source": []
  },
  {
   "cell_type": "code",
   "execution_count": null,
   "id": "8472e41e",
   "metadata": {},
   "outputs": [],
   "source": []
  },
  {
   "cell_type": "code",
   "execution_count": null,
   "id": "7d8e777d",
   "metadata": {},
   "outputs": [],
   "source": []
  },
  {
   "cell_type": "code",
   "execution_count": null,
   "id": "39a443ad",
   "metadata": {},
   "outputs": [],
   "source": []
  },
  {
   "cell_type": "code",
   "execution_count": null,
   "id": "2ce6cddb",
   "metadata": {},
   "outputs": [],
   "source": []
  },
  {
   "cell_type": "code",
   "execution_count": null,
   "id": "ac87ada1",
   "metadata": {},
   "outputs": [],
   "source": []
  },
  {
   "cell_type": "code",
   "execution_count": null,
   "id": "bae48671",
   "metadata": {},
   "outputs": [],
   "source": []
  },
  {
   "cell_type": "code",
   "execution_count": null,
   "id": "5e54c900",
   "metadata": {},
   "outputs": [],
   "source": []
  },
  {
   "cell_type": "code",
   "execution_count": null,
   "id": "9d7ee3da",
   "metadata": {},
   "outputs": [],
   "source": []
  },
  {
   "cell_type": "code",
   "execution_count": null,
   "id": "5e27968a",
   "metadata": {},
   "outputs": [],
   "source": []
  },
  {
   "cell_type": "code",
   "execution_count": null,
   "id": "25ce8faf",
   "metadata": {},
   "outputs": [],
   "source": []
  },
  {
   "cell_type": "code",
   "execution_count": null,
   "id": "e0847873",
   "metadata": {},
   "outputs": [],
   "source": []
  },
  {
   "cell_type": "code",
   "execution_count": null,
   "id": "b0f04d9c",
   "metadata": {},
   "outputs": [],
   "source": []
  },
  {
   "cell_type": "code",
   "execution_count": null,
   "id": "45c3afed",
   "metadata": {},
   "outputs": [],
   "source": []
  },
  {
   "cell_type": "code",
   "execution_count": null,
   "id": "89fb9de5",
   "metadata": {},
   "outputs": [],
   "source": []
  }
 ],
 "metadata": {
  "kernelspec": {
   "display_name": "Python",
   "language": "python",
   "name": "python3"
  },
  "language_info": {
   "codemirror_mode": {
    "name": "ipython",
    "version": 3
   },
   "file_extension": ".py",
   "mimetype": "text/x-python",
   "name": "python",
   "nbconvert_exporter": "python",
   "pygments_lexer": "ipython3",
   "version": "3.12.8"
  }
 },
 "nbformat": 4,
 "nbformat_minor": 5
}
