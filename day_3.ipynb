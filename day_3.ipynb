{
 "cells": [
  {
   "cell_type": "code",
   "execution_count": 2,
   "id": "547c04ba",
   "metadata": {},
   "outputs": [],
   "source": [
    "a=3\n",
    "b=3\n",
    "total = a + b\n",
    "diff = a - b\n",
    "product = a * b\n",
    "division = a / b\n",
    "remainder = a % b\n",
    "floor_division = a // b\n",
    "exponential = a ** b"
   ]
  },
  {
   "cell_type": "code",
   "execution_count": 3,
   "id": "97e8ab10",
   "metadata": {},
   "outputs": [
    {
     "name": "stdout",
     "output_type": "stream",
     "text": [
      "6\n",
      "a + b =  6\n",
      "a - b =  0\n",
      "a * b =  9\n",
      "a / b =  1.0\n",
      "a % b =  0\n",
      "a // b =  1\n"
     ]
    }
   ],
   "source": [
    "print(total) \n",
    "print('a + b = ', total)\n",
    "print('a - b = ', diff)\n",
    "print('a * b = ', product)\n",
    "print('a / b = ', division)\n",
    "print('a % b = ', remainder)\n",
    "print('a // b = ', floor_division)"
   ]
  },
  {
   "cell_type": "code",
   "execution_count": 4,
   "id": "1d74e57a",
   "metadata": {},
   "outputs": [
    {
     "name": "stdout",
     "output_type": "stream",
     "text": [
      "True and True:  True\n"
     ]
    }
   ],
   "source": [
    "print('True and True: ', True and True)"
   ]
  },
  {
   "cell_type": "code",
   "execution_count": 5,
   "id": "a6a15f50",
   "metadata": {},
   "outputs": [
    {
     "name": "stdout",
     "output_type": "stream",
     "text": [
      "True or False: True\n"
     ]
    }
   ],
   "source": [
    "print('True or False:', True or False)"
   ]
  },
  {
   "cell_type": "code",
   "execution_count": 9,
   "id": "5f6db5b6",
   "metadata": {},
   "outputs": [
    {
     "name": "stdout",
     "output_type": "stream",
     "text": [
      "area of triangle 100\n"
     ]
    }
   ],
   "source": [
    "# input() return a string, so need to convert to float\n",
    "base = float(input('base'))\n",
    "height = float(input('height of triangle'))\n",
    "area_of_triangle = 0.5 * base * height\n",
    "print('area of triangle',round(area_of_triangle))"
   ]
  },
  {
   "cell_type": "code",
   "execution_count": 10,
   "id": "9e9ceb3f",
   "metadata": {},
   "outputs": [
    {
     "name": "stdout",
     "output_type": "stream",
     "text": [
      "primeter of triangle 12\n"
     ]
    }
   ],
   "source": [
    "side_a = int(input('side_a'))\n",
    "side_b = int(input('side_b'))\n",
    "side_c = int(input('side_c'))\n",
    "perimeter = side_a + side_b + side_c\n",
    "\n",
    "print('primeter of triangle', perimeter)"
   ]
  },
  {
   "cell_type": "code",
   "execution_count": 11,
   "id": "475fa326",
   "metadata": {},
   "outputs": [
    {
     "name": "stdout",
     "output_type": "stream",
     "text": [
      "area_of_rectangle 24\n",
      "perimeter_of_rectangle 20\n"
     ]
    }
   ],
   "source": [
    "# 4 and 6\n",
    "length = int(input('length of rectangle'))\n",
    "width = int(input('width of rectangle'))\n",
    "area_of_rectangle = length * width\n",
    "perimeter_of_rectangle = 2 * (length + width)\n",
    "\n",
    "print('area_of_rectangle', area_of_rectangle)\n",
    "print('perimeter_of_rectangle', perimeter_of_rectangle)"
   ]
  },
  {
   "cell_type": "code",
   "execution_count": 13,
   "id": "8b442da5",
   "metadata": {},
   "outputs": [
    {
     "name": "stdout",
     "output_type": "stream",
     "text": [
      "area_of_circle:  158.37\n",
      "circumference_of_circle:  44.61\n"
     ]
    }
   ],
   "source": [
    "# radius = 7.1\n",
    "import math\n",
    "radius = float(input('radius of circle'))\n",
    "area_of_circle = math.pi * radius ** 2\n",
    "circumference_of_circle = math.pi * 2 * radius\n",
    "\n",
    "print('area_of_circle: ', round(area_of_circle,2))\n",
    "print('circumference_of_circle: ', round(circumference_of_circle,2))"
   ]
  },
  {
   "cell_type": "code",
   "execution_count": 17,
   "id": "f26ca9af",
   "metadata": {},
   "outputs": [
    {
     "name": "stdout",
     "output_type": "stream",
     "text": [
      "y-intercept of line:  6\n"
     ]
    }
   ],
   "source": [
    "# x = 4\n",
    "x_intercept = int(input('x-intercept of line'))\n",
    "y_intercept = 2 * x_intercept - 2\n",
    "print('y-intercept of line: ', y_intercept)"
   ]
  },
  {
   "cell_type": "code",
   "execution_count": 19,
   "id": "d3790ba7",
   "metadata": {},
   "outputs": [
    {
     "name": "stdout",
     "output_type": "stream",
     "text": [
      "slope of line:  2.0\n",
      "distance between points:  8.94\n"
     ]
    }
   ],
   "source": [
    "# point(2,2) and point(6,10)\n",
    "x1, y1 = 2, 2\n",
    "x2, y2 = 6, 10\n",
    "\n",
    "slope = (y2 - y1) / (x2 - x1)\n",
    "print('slope of line: ', round(slope,2))\n",
    "\n",
    "distance = math.sqrt((x2 - x1)**2 + (y2 - y1)**2)\n",
    "print('distance between points: ', round(distance,2))"
   ]
  },
  {
   "cell_type": "code",
   "execution_count": 20,
   "id": "f29ee863",
   "metadata": {},
   "outputs": [
    {
     "name": "stdout",
     "output_type": "stream",
     "text": [
      "True\n"
     ]
    }
   ],
   "source": [
    "print(y_intercept > slope)"
   ]
  },
  {
   "cell_type": "code",
   "execution_count": null,
   "id": "5c31416c",
   "metadata": {},
   "outputs": [
    {
     "name": "stdout",
     "output_type": "stream",
     "text": [
      "y =  2.25\n"
     ]
    }
   ],
   "source": [
    "# x = -1.5\n",
    "practice_x =float(input('what is x'))\n",
    "y = practice_x ** 2 + practice_x * 6 + 9\n",
    "print('y = ', y)"
   ]
  },
  {
   "cell_type": "code",
   "execution_count": 27,
   "id": "0817e337",
   "metadata": {},
   "outputs": [
    {
     "name": "stdout",
     "output_type": "stream",
     "text": [
      "6\n",
      "6\n",
      "False\n"
     ]
    }
   ],
   "source": [
    "print(len('python'))\n",
    "print(len('dragon'))\n",
    "print(len('python') > len('dragon'))\n"
   ]
  },
  {
   "cell_type": "code",
   "execution_count": 28,
   "id": "82e5734e",
   "metadata": {},
   "outputs": [
    {
     "name": "stdout",
     "output_type": "stream",
     "text": [
      "True\n"
     ]
    }
   ],
   "source": [
    "print('on' in 'python' and 'on' in 'dragon')"
   ]
  },
  {
   "cell_type": "code",
   "execution_count": 29,
   "id": "4455d674",
   "metadata": {},
   "outputs": [
    {
     "name": "stdout",
     "output_type": "stream",
     "text": [
      "True\n"
     ]
    }
   ],
   "source": [
    "print('jargon' in 'I hope this course is not a jargon')"
   ]
  },
  {
   "cell_type": "code",
   "execution_count": 31,
   "id": "52e95d7d",
   "metadata": {},
   "outputs": [
    {
     "name": "stdout",
     "output_type": "stream",
     "text": [
      "False\n"
     ]
    }
   ],
   "source": [
    "print('on' not in 'dragon' and 'on' not in 'python')"
   ]
  },
  {
   "cell_type": "code",
   "execution_count": 33,
   "id": "f1a173a7",
   "metadata": {},
   "outputs": [
    {
     "name": "stdout",
     "output_type": "stream",
     "text": [
      "6.0\n"
     ]
    }
   ],
   "source": [
    "length_of_python = len('python')\n",
    "length_of_python = float(length_of_python)\n",
    "length_of_python = str(length_of_python)\n",
    "print(length_of_python)"
   ]
  },
  {
   "cell_type": "code",
   "execution_count": null,
   "id": "20bcaccb",
   "metadata": {},
   "outputs": [
    {
     "name": "stdout",
     "output_type": "stream",
     "text": [
      "7 is an odd number\n"
     ]
    }
   ],
   "source": [
    "# Even numbers are divisible by 2 and the remainder is zero. How do you check if a number is even or not using python\n",
    "\n",
    "number = int(input('enter a number to check'))\n",
    "if number % 2 == 0:\n",
    "    print(f'{number} is an even number')\n",
    "else:\n",
    "    print(f'{number} is an odd number')"
   ]
  },
  {
   "cell_type": "code",
   "execution_count": null,
   "id": "596bd9ca",
   "metadata": {},
   "outputs": [
    {
     "name": "stdout",
     "output_type": "stream",
     "text": [
      "True\n"
     ]
    }
   ],
   "source": [
    "# Check if the floor division of 7 by 3 is equal to the int converted value of 2.7\n",
    "number_1 = 7 // 3\n",
    "number_2 = int(2.7)\n",
    "print(number_1 == number_2)"
   ]
  },
  {
   "cell_type": "code",
   "execution_count": 36,
   "id": "8d503947",
   "metadata": {},
   "outputs": [
    {
     "name": "stdout",
     "output_type": "stream",
     "text": [
      "False\n"
     ]
    }
   ],
   "source": [
    "print('10' == 10)"
   ]
  },
  {
   "cell_type": "code",
   "execution_count": 38,
   "id": "85ae7fd2",
   "metadata": {},
   "outputs": [
    {
     "name": "stdout",
     "output_type": "stream",
     "text": [
      "False\n"
     ]
    }
   ],
   "source": [
    "print(int(9.8) == 10)"
   ]
  },
  {
   "cell_type": "code",
   "execution_count": 42,
   "id": "322f4913",
   "metadata": {},
   "outputs": [
    {
     "name": "stdout",
     "output_type": "stream",
     "text": [
      "Weekly earning:  1120.0\n"
     ]
    }
   ],
   "source": [
    "hours = float(input('Enter hours: '))\n",
    "rate_per_hour = float(input('Enter rate per hour: '))\n",
    "weekly_earning = hours * rate_per_hour\n",
    "print('Weekly earning: ', round(weekly_earning, 0))"
   ]
  },
  {
   "cell_type": "code",
   "execution_count": 43,
   "id": "17679002",
   "metadata": {},
   "outputs": [
    {
     "name": "stdout",
     "output_type": "stream",
     "text": [
      "You have lived for 3153600000 seconds\n"
     ]
    }
   ],
   "source": [
    "years_of_live = int(input('number of years you have lived: '))\n",
    "seconds_of_live = years_of_live * 365 * 24 * 60 * 60\n",
    "print('You have lived for', seconds_of_live, 'seconds')"
   ]
  },
  {
   "cell_type": "code",
   "execution_count": 45,
   "id": "375b56ff",
   "metadata": {},
   "outputs": [
    {
     "name": "stdout",
     "output_type": "stream",
     "text": [
      "1 1 1 1 1\n",
      "2 1 2 4 8\n",
      "3 1 3 9 27\n",
      "4 1 4 16 64\n",
      "5 1 5 25 125\n"
     ]
    }
   ],
   "source": [
    "for i in range (1,6):\n",
    "    print(i,1,i,i**2,i**3)\n"
   ]
  }
 ],
 "metadata": {
  "kernelspec": {
   "display_name": "Python",
   "language": "python",
   "name": "python3"
  },
  "language_info": {
   "codemirror_mode": {
    "name": "ipython",
    "version": 3
   },
   "file_extension": ".py",
   "mimetype": "text/x-python",
   "name": "python",
   "nbconvert_exporter": "python",
   "pygments_lexer": "ipython3",
   "version": "3.12.8"
  }
 },
 "nbformat": 4,
 "nbformat_minor": 5
}
