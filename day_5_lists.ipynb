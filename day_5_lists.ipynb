{
 "cells": [
  {
   "cell_type": "code",
   "execution_count": 115,
   "id": "3dc7a66d",
   "metadata": {},
   "outputs": [
    {
     "name": "stdout",
     "output_type": "stream",
     "text": [
      "[]\n"
     ]
    }
   ],
   "source": [
    "#1 Declare an empty list\n",
    "\n",
    "emp_lst = []\n",
    "print(emp_lst)"
   ]
  },
  {
   "cell_type": "code",
   "execution_count": 116,
   "id": "c89f64ee",
   "metadata": {},
   "outputs": [
    {
     "name": "stdout",
     "output_type": "stream",
     "text": [
      "5\n",
      "A\n",
      "C\n",
      "F\n",
      "['A', 'C', 'F']\n"
     ]
    }
   ],
   "source": [
    "#2 Declare a list with more than 5 items\n",
    "#3 Find the length of your list\n",
    "#4 Get the first item, the middle item and the last item of the list\n",
    "\n",
    "lst = ['A', 'B', 'C', 'D', 'F']\n",
    "\n",
    "print(len(lst))\n",
    "print(lst[0])\n",
    "print(lst[2])\n",
    "print(lst[-1])\n",
    "print(lst[::2])\n"
   ]
  },
  {
   "cell_type": "code",
   "execution_count": 117,
   "id": "c8353e21",
   "metadata": {},
   "outputs": [
    {
     "name": "stdout",
     "output_type": "stream",
     "text": [
      "['Name', '30', '160m', 'single', '4560 mission gorge']\n"
     ]
    }
   ],
   "source": [
    "#5 Declare a list called mixed_data_types, put your(name, age, height, marital status, address)\n",
    "\n",
    "mixed_data_types = ['Name', '30', '160m', 'single', '4560 mission gorge']\n",
    "\n",
    "print(mixed_data_types)"
   ]
  },
  {
   "cell_type": "code",
   "execution_count": 118,
   "id": "c0d64783",
   "metadata": {},
   "outputs": [],
   "source": [
    "#6 Declare a list variable named it_companies\n",
    "\n",
    "companies = ['Facebook', 'Google', 'Microsoft', 'Apple', 'IBM', 'Oracle', 'Amazon'] "
   ]
  },
  {
   "cell_type": "code",
   "execution_count": 119,
   "id": "454263ec",
   "metadata": {},
   "outputs": [
    {
     "name": "stdout",
     "output_type": "stream",
     "text": [
      "['Facebook', 'Google', 'Microsoft', 'Apple', 'IBM', 'Oracle', 'Amazon']\n",
      "7\n",
      "['Facebook', 'Apple', 'Amazon']\n",
      "['Facebook', 'Google', 'Ali', 'Apple', 'IBM', 'Oracle', 'Amazon']\n"
     ]
    }
   ],
   "source": [
    "#7 Print the list using print()\n",
    "#8 Print the number of companies in the list\n",
    "#9 Print the first, middle and last company\n",
    "#10 Print the list after modifying one of the companies\n",
    "\n",
    "print(companies)\n",
    "print(len(companies))\n",
    "print(companies[::3])\n",
    "\n",
    "companies[2] = 'Ali'\n",
    "print(companies)"
   ]
  },
  {
   "cell_type": "code",
   "execution_count": 120,
   "id": "8a31b772",
   "metadata": {},
   "outputs": [
    {
     "name": "stdout",
     "output_type": "stream",
     "text": [
      "['Facebook', 'Google', 'Ali', 'Apple', 'IBM', 'Oracle', 'Amazon', 'Baidu']\n"
     ]
    }
   ],
   "source": [
    "#11 Add an IT company to it_companies\n",
    "\n",
    "companies.extend(['Baidu'])\n",
    "print(companies)"
   ]
  },
  {
   "cell_type": "code",
   "execution_count": 121,
   "id": "6bde3c92",
   "metadata": {},
   "outputs": [
    {
     "name": "stdout",
     "output_type": "stream",
     "text": [
      "['Facebook', 'Google', 'Ali', 'X', 'Apple', 'IBM', 'Oracle', 'Amazon', 'Baidu']\n"
     ]
    }
   ],
   "source": [
    "#12 Insert an IT company in the middle of the companies list\n",
    "\n",
    "companies.insert(3,'X')\n",
    "print(companies)"
   ]
  },
  {
   "cell_type": "code",
   "execution_count": 122,
   "id": "ee33264d",
   "metadata": {},
   "outputs": [
    {
     "name": "stdout",
     "output_type": "stream",
     "text": [
      "['Facebook', 'Google', 'ALI', 'X', 'Apple', 'IBM', 'Oracle', 'Amazon', 'Baidu']\n"
     ]
    }
   ],
   "source": [
    "#13 Change one of the it_companies names to uppercase (IBM excluded!)\n",
    "\n",
    "companies[2] = companies[2].upper()\n",
    "print(companies)"
   ]
  },
  {
   "cell_type": "code",
   "execution_count": 123,
   "id": "4824f634",
   "metadata": {},
   "outputs": [
    {
     "name": "stdout",
     "output_type": "stream",
     "text": [
      "['Facebook', 'Google', 'ALI', 'X', 'Apple', 'IBM', 'Oracle', 'Amazon', 'Baidu', '#;  ']\n"
     ]
    }
   ],
   "source": [
    "#14 Join the it_companies with a string '#;  '\n",
    "\n",
    "companies.extend(['#;  '])\n",
    "\n",
    "print(companies)"
   ]
  },
  {
   "cell_type": "code",
   "execution_count": 124,
   "id": "eb1240f5",
   "metadata": {},
   "outputs": [
    {
     "name": "stdout",
     "output_type": "stream",
     "text": [
      "True\n"
     ]
    }
   ],
   "source": [
    "#15 Check if a certain company exists in the it_companies list.\n",
    "\n",
    "does_exist = 'X' in companies\n",
    "\n",
    "print(does_exist)\n"
   ]
  },
  {
   "cell_type": "code",
   "execution_count": 125,
   "id": "e912d06a",
   "metadata": {},
   "outputs": [
    {
     "name": "stdout",
     "output_type": "stream",
     "text": [
      "['#;  ', 'ALI', 'Amazon', 'Apple', 'Baidu', 'Facebook', 'Google', 'IBM', 'Oracle', 'X']\n"
     ]
    }
   ],
   "source": [
    "#16 Sort the list using sort() method\n",
    "\n",
    "companies.sort()\n",
    "print(companies)"
   ]
  },
  {
   "cell_type": "code",
   "execution_count": 126,
   "id": "1e50020f",
   "metadata": {},
   "outputs": [
    {
     "name": "stdout",
     "output_type": "stream",
     "text": [
      "['X', 'Oracle', 'IBM', 'Google', 'Facebook', 'Baidu', 'Apple', 'Amazon', 'ALI', '#;  ']\n"
     ]
    }
   ],
   "source": [
    "#17 Reverse the list in descending order using reverse() method\n",
    "\n",
    "companies.sort(reverse=True)\n",
    "print(companies)"
   ]
  },
  {
   "cell_type": "code",
   "execution_count": 127,
   "id": "31f8a9ec",
   "metadata": {},
   "outputs": [
    {
     "name": "stdout",
     "output_type": "stream",
     "text": [
      "['IBM', 'Google', 'Facebook', 'Baidu', 'Apple', 'Amazon', 'ALI', '#;  ']\n"
     ]
    }
   ],
   "source": [
    "#18 Slice out the first 3 companies from the list\n",
    "\n",
    "del companies[0:2]\n",
    "print(companies)"
   ]
  },
  {
   "cell_type": "code",
   "execution_count": 128,
   "id": "e1783568",
   "metadata": {},
   "outputs": [
    {
     "name": "stdout",
     "output_type": "stream",
     "text": [
      "['IBM', 'Google', 'Facebook', 'Baidu', 'Apple']\n"
     ]
    }
   ],
   "source": [
    "#19 Slice out the last 3 companies from the list\n",
    "\n",
    "del companies[-3:]\n",
    "print (companies)"
   ]
  },
  {
   "cell_type": "code",
   "execution_count": 129,
   "id": "f3b4492b",
   "metadata": {},
   "outputs": [
    {
     "name": "stdout",
     "output_type": "stream",
     "text": [
      "['IBM', 'Google', 'Baidu', 'Apple']\n"
     ]
    }
   ],
   "source": [
    "#20 Slice out the middle IT company or companies from the list\n",
    "\n",
    "companies.remove('Facebook')\n",
    "\n",
    "print(companies)"
   ]
  },
  {
   "cell_type": "code",
   "execution_count": 130,
   "id": "297b4b33",
   "metadata": {},
   "outputs": [
    {
     "name": "stdout",
     "output_type": "stream",
     "text": [
      "['Google', 'Baidu', 'Apple']\n"
     ]
    }
   ],
   "source": [
    "#21 Remove the first IT company from the list\n",
    "\n",
    "companies.pop(0)\n",
    "print(companies)"
   ]
  },
  {
   "cell_type": "code",
   "execution_count": 131,
   "id": "c88392da",
   "metadata": {},
   "outputs": [
    {
     "name": "stdout",
     "output_type": "stream",
     "text": [
      "[]\n"
     ]
    }
   ],
   "source": [
    "#24 Remove all IT companies from the list\n",
    "\n",
    "companies.clear()\n",
    "\n",
    "print(companies)"
   ]
  },
  {
   "cell_type": "code",
   "execution_count": 132,
   "id": "fdebf8b9",
   "metadata": {},
   "outputs": [],
   "source": [
    "#25 Destroy the IT companies list\n",
    "\n",
    "del companies"
   ]
  },
  {
   "cell_type": "code",
   "execution_count": 133,
   "id": "c8cbd3fe",
   "metadata": {},
   "outputs": [
    {
     "name": "stdout",
     "output_type": "stream",
     "text": [
      "['HTML', 'CSS', 'JS', 'React', 'Redux', 'Node', 'Express', 'MongoDB']\n"
     ]
    }
   ],
   "source": [
    "front_end = ['HTML', 'CSS', 'JS', 'React', 'Redux']\n",
    "back_end = ['Node','Express', 'MongoDB']\n",
    "\n",
    "new_lst = front_end + back_end\n",
    "\n",
    "print(new_lst)\n"
   ]
  },
  {
   "cell_type": "code",
   "execution_count": 134,
   "id": "1d2caa58",
   "metadata": {},
   "outputs": [],
   "source": [
    "full_stack = new_lst.copy()"
   ]
  },
  {
   "cell_type": "code",
   "execution_count": 135,
   "id": "dd822e39",
   "metadata": {},
   "outputs": [
    {
     "name": "stdout",
     "output_type": "stream",
     "text": [
      "['HTML', 'CSS', 'JS', 'React', 'Redux', 'Python', 'Node', 'Express', 'MongoDB']\n"
     ]
    }
   ],
   "source": [
    "full_stack.insert(5,'Python')\n",
    "print(full_stack)"
   ]
  },
  {
   "cell_type": "code",
   "execution_count": 136,
   "id": "f929c3bd",
   "metadata": {},
   "outputs": [
    {
     "name": "stdout",
     "output_type": "stream",
     "text": [
      "['HTML', 'CSS', 'JS', 'React', 'Redux', 'Python', 'SQL', 'Node', 'Express', 'MongoDB']\n"
     ]
    }
   ],
   "source": [
    "full_stack.insert(6,'SQL')\n",
    "print(full_stack)"
   ]
  },
  {
   "cell_type": "code",
   "execution_count": 137,
   "id": "4c38be15",
   "metadata": {},
   "outputs": [],
   "source": [
    "ages = [19, 22, 19, 24, 20, 25, 26, 24, 25, 24]\n",
    "\n"
   ]
  },
  {
   "cell_type": "code",
   "execution_count": 138,
   "id": "e42b9cb9",
   "metadata": {},
   "outputs": [
    {
     "name": "stdout",
     "output_type": "stream",
     "text": [
      "[19, 19, 20, 22, 24, 24, 24, 25, 25, 26]\n"
     ]
    }
   ],
   "source": [
    "ages.sort()\n",
    "print(ages)"
   ]
  },
  {
   "cell_type": "code",
   "execution_count": 139,
   "id": "10f34151",
   "metadata": {},
   "outputs": [
    {
     "name": "stdout",
     "output_type": "stream",
     "text": [
      "[19, 19, 19, 20, 22, 24, 24, 24, 25, 26, 25, 26]\n"
     ]
    }
   ],
   "source": [
    "ages.insert(0,19)\n",
    "ages.insert(9,26)\n",
    "\n",
    "print(ages)"
   ]
  },
  {
   "cell_type": "code",
   "execution_count": 140,
   "id": "a99aae2e",
   "metadata": {},
   "outputs": [
    {
     "name": "stdout",
     "output_type": "stream",
     "text": [
      "[19, 19, 19, 20, 22, 24, 24, 24, 25, 25, 26, 26]\n"
     ]
    }
   ],
   "source": [
    "ages.sort()\n",
    "print(ages)"
   ]
  },
  {
   "cell_type": "code",
   "execution_count": 141,
   "id": "cebff1ea",
   "metadata": {},
   "outputs": [
    {
     "name": "stdout",
     "output_type": "stream",
     "text": [
      "Middle items: [24, 24]\n"
     ]
    }
   ],
   "source": [
    "n = len(ages)\n",
    "if n % 2 == 0:\n",
    "    middle_items = ages[n//2 - 1 : n//2 + 1]\n",
    "    print(\"Middle items:\", middle_items)\n",
    "else:\n",
    "    print(\"Middle item:\", ages[n//2])"
   ]
  },
  {
   "cell_type": "code",
   "execution_count": 142,
   "id": "d424605f",
   "metadata": {},
   "outputs": [
    {
     "name": "stdout",
     "output_type": "stream",
     "text": [
      "Middle item: 24\n"
     ]
    }
   ],
   "source": [
    "middle_index = len(ages) // 2\n",
    "middle_item = ages[middle_index]\n",
    "print(\"Middle item:\", middle_item)"
   ]
  },
  {
   "cell_type": "code",
   "execution_count": 143,
   "id": "f70d6b95",
   "metadata": {},
   "outputs": [
    {
     "name": "stdout",
     "output_type": "stream",
     "text": [
      "22.75\n"
     ]
    }
   ],
   "source": [
    "average_age = sum(ages)/len(ages)\n",
    "print(average_age)"
   ]
  },
  {
   "cell_type": "code",
   "execution_count": 144,
   "id": "0bfb8f63",
   "metadata": {},
   "outputs": [
    {
     "name": "stdout",
     "output_type": "stream",
     "text": [
      "7\n"
     ]
    }
   ],
   "source": [
    "range_of_age = max(ages)-min(ages)\n",
    "print(range_of_age)"
   ]
  },
  {
   "cell_type": "code",
   "execution_count": 145,
   "id": "32642826",
   "metadata": {},
   "outputs": [
    {
     "name": "stdout",
     "output_type": "stream",
     "text": [
      "abs(min - average): 3.75\n",
      "abs(max - average): 3.25\n"
     ]
    }
   ],
   "source": [
    "min_age = min(ages)\n",
    "max_age = max(ages)\n",
    "\n",
    "print(\"abs(min - average):\", abs(min_age-average_age))\n",
    "print(\"abs(max - average):\", abs(max_age-average_age))"
   ]
  }
 ],
 "metadata": {
  "kernelspec": {
   "display_name": "Python",
   "language": "python",
   "name": "python3"
  },
  "language_info": {
   "codemirror_mode": {
    "name": "ipython",
    "version": 3
   },
   "file_extension": ".py",
   "mimetype": "text/x-python",
   "name": "python",
   "nbconvert_exporter": "python",
   "pygments_lexer": "ipython3",
   "version": "3.12.8"
  }
 },
 "nbformat": 4,
 "nbformat_minor": 5
}
