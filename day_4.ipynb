{
 "cells": [
  {
   "cell_type": "code",
   "execution_count": 1,
   "id": "1ebb173d",
   "metadata": {},
   "outputs": [
    {
     "name": "stdout",
     "output_type": "stream",
     "text": [
      "Day 1\t5\t5\n"
     ]
    }
   ],
   "source": [
    "print('Day 1\\t5\\t5')"
   ]
  },
  {
   "cell_type": "code",
   "execution_count": 2,
   "id": "c67f532a",
   "metadata": {},
   "outputs": [
    {
     "name": "stdout",
     "output_type": "stream",
     "text": [
      "Day 2\t6\t20\n"
     ]
    }
   ],
   "source": [
    "print('Day 2\\t6\\t20')"
   ]
  },
  {
   "cell_type": "code",
   "execution_count": 3,
   "id": "d9827d10",
   "metadata": {},
   "outputs": [
    {
     "name": "stdout",
     "output_type": "stream",
     "text": [
      "This is a backslash  symbol (\\)\n"
     ]
    }
   ],
   "source": [
    "print('This is a backslash  symbol (\\\\)')"
   ]
  },
  {
   "cell_type": "code",
   "execution_count": 4,
   "id": "cdc15f42",
   "metadata": {},
   "outputs": [
    {
     "name": "stdout",
     "output_type": "stream",
     "text": [
      "In every programming language it starts with \"Hello, World!\"\n"
     ]
    }
   ],
   "source": [
    "print('In every programming language it starts with \\\"Hello, World!\\\"') \n"
   ]
  },
  {
   "cell_type": "code",
   "execution_count": 5,
   "id": "12920d6a",
   "metadata": {},
   "outputs": [
    {
     "name": "stdout",
     "output_type": "stream",
     "text": [
      "In every programming language it starts with \"Hello, World!\"\n"
     ]
    }
   ],
   "source": [
    "print('In every programming language it starts with \"Hello, World!\"') "
   ]
  },
  {
   "cell_type": "code",
   "execution_count": 6,
   "id": "3d4f3574",
   "metadata": {},
   "outputs": [
    {
     "name": "stdout",
     "output_type": "stream",
     "text": [
      "I am Asabeneh Yetayeh. I teach Python\n"
     ]
    }
   ],
   "source": [
    "first_name = 'Asabeneh'\n",
    "last_name = 'Yetayeh'\n",
    "language = 'Python'\n",
    "formated_string = 'I am %s %s. I teach %s' %(first_name, last_name, language)\n",
    "print(formated_string)"
   ]
  },
  {
   "cell_type": "code",
   "execution_count": 10,
   "id": "192f8809",
   "metadata": {},
   "outputs": [
    {
     "name": "stdout",
     "output_type": "stream",
     "text": [
      "area of the circle is 314.00\n"
     ]
    }
   ],
   "source": [
    "radius = 10\n",
    "area_of_circle = 3.14 * radius ** 2\n",
    "result = 'area of the circle is %.2f' %(area_of_circle)\n",
    "print(result)"
   ]
  },
  {
   "cell_type": "code",
   "execution_count": 11,
   "id": "85bc606b",
   "metadata": {},
   "outputs": [
    {
     "name": "stdout",
     "output_type": "stream",
     "text": [
      "area of the second cirle with radius 100 is 31400.00\n"
     ]
    }
   ],
   "source": [
    "radius2 = 100\n",
    "pi = 3.14\n",
    "area = pi * radius2 **2\n",
    "result2 = 'area of the second cirle with radius %d is %.2f' %(radius2, area)\n",
    "print(result2)"
   ]
  },
  {
   "cell_type": "code",
   "execution_count": 13,
   "id": "c1bcc6aa",
   "metadata": {},
   "outputs": [
    {
     "name": "stdout",
     "output_type": "stream",
     "text": [
      "4 + 3 = 7\n",
      "4 - 3 = 1\n",
      "4 / 3 = 1.33\n"
     ]
    }
   ],
   "source": [
    "a = 4\n",
    "b = 3\n",
    "\n",
    "print('{} + {} = {}' .format(a, b, a+b))\n",
    "print('{} - {} = {}' .format(a, b, a-b))\n",
    "print('{} / {} = {:.2f}' .format(a, b, a/b))"
   ]
  },
  {
   "cell_type": "code",
   "execution_count": 15,
   "id": "dce661a1",
   "metadata": {},
   "outputs": [
    {
     "name": "stdout",
     "output_type": "stream",
     "text": [
      "the area of circle with radius 10 is 314.00\n"
     ]
    }
   ],
   "source": [
    "radius3 = 10\n",
    "pi = 3.14\n",
    "area2 = pi * radius ** 2\n",
    "result3 = 'the area of circle with radius {} is {:.2f}' .format(radius3, area2)\n",
    "print(result3)"
   ]
  },
  {
   "cell_type": "code",
   "execution_count": 16,
   "id": "de3e9a16",
   "metadata": {},
   "outputs": [
    {
     "name": "stdout",
     "output_type": "stream",
     "text": [
      "4 + 3 = 7\n"
     ]
    }
   ],
   "source": [
    "print(f'{a} + {b} = {a +b}')"
   ]
  },
  {
   "cell_type": "code",
   "execution_count": 17,
   "id": "5f408f63",
   "metadata": {},
   "outputs": [
    {
     "name": "stdout",
     "output_type": "stream",
     "text": [
      "4 / 3 =  1.33\n"
     ]
    }
   ],
   "source": [
    "# .2f keep last 2 digits\n",
    "\n",
    "print(f'{a} / {b} = {a / b: .2f}')"
   ]
  },
  {
   "cell_type": "code",
   "execution_count": 18,
   "id": "ee920f29",
   "metadata": {},
   "outputs": [
    {
     "name": "stdout",
     "output_type": "stream",
     "text": [
      "P\n",
      "y\n",
      "t\n",
      "h\n",
      "o\n"
     ]
    }
   ],
   "source": [
    "language  = 'Python'\n",
    "a,b,c,d,e,f = language\n",
    "print(a)\n",
    "print(b)\n",
    "print(c)\n",
    "print(d)\n",
    "print(e)"
   ]
  },
  {
   "cell_type": "code",
   "execution_count": 20,
   "id": "608f37ef",
   "metadata": {},
   "outputs": [
    {
     "name": "stdout",
     "output_type": "stream",
     "text": [
      "P\n",
      "y\n",
      "5\n",
      "n\n",
      "n\n"
     ]
    }
   ],
   "source": [
    "first_letter = language[0]\n",
    "second_letter = language[1]\n",
    "last_index = len(language)-1\n",
    "last_letter = language[last_index]\n",
    "last_letter2 = language[-1]\n",
    "\n",
    "print(first_letter)\n",
    "print(second_letter)\n",
    "print(last_index)\n",
    "print(last_letter)\n",
    "print(last_letter2)"
   ]
  },
  {
   "cell_type": "code",
   "execution_count": 21,
   "id": "cf6d749d",
   "metadata": {},
   "outputs": [
    {
     "name": "stdout",
     "output_type": "stream",
     "text": [
      "Pyt\n",
      "hon\n",
      "hon\n"
     ]
    }
   ],
   "source": [
    "first_three = language[0:3]\n",
    "last_three = language[-3:]\n",
    "last_three2 = language[3:]\n",
    "\n",
    "print(first_three)\n",
    "print(last_three)\n",
    "print(last_three2)"
   ]
  },
  {
   "cell_type": "code",
   "execution_count": 23,
   "id": "8de7db16",
   "metadata": {},
   "outputs": [
    {
     "name": "stdout",
     "output_type": "stream",
     "text": [
      "!dlrow olleh\n",
      "ello world!\n",
      "!\n",
      "ello world!\n"
     ]
    }
   ],
   "source": [
    "greeting = 'hello world!'\n",
    "print(greeting[::-1])\n",
    "print(greeting[1::])\n",
    "print(greeting[-1::])\n",
    "print(greeting[1:])"
   ]
  },
  {
   "cell_type": "code",
   "execution_count": null,
   "id": "bbf9759d",
   "metadata": {},
   "outputs": [
    {
     "name": "stdout",
     "output_type": "stream",
     "text": [
      "Pto\n",
      "Pyt\n",
      "y\n"
     ]
    }
   ],
   "source": [
    "# language = 'Python'\n",
    "# starting at the first number, then add the last number\n",
    "\n",
    "test = language[0:6:2]\n",
    "test2 = language[0:3:1]\n",
    "test3 = language[1:6:5]\n",
    "\n",
    "print(test)\n",
    "print(test2)\n",
    "print(test3)"
   ]
  },
  {
   "cell_type": "code",
   "execution_count": 25,
   "id": "2765a18c",
   "metadata": {},
   "outputs": [
    {
     "name": "stdout",
     "output_type": "stream",
     "text": [
      "Thirty days of python\n"
     ]
    }
   ],
   "source": [
    "challenge  = 'thirty days of python'\n",
    "print(challenge.capitalize())"
   ]
  },
  {
   "cell_type": "code",
   "execution_count": null,
   "id": "c6ec940c",
   "metadata": {},
   "outputs": [
    {
     "name": "stdout",
     "output_type": "stream",
     "text": [
      "3\n",
      "2\n",
      "2\n"
     ]
    }
   ],
   "source": [
    "# count()\n",
    "print(challenge.count('y'))\n",
    "print(challenge.count('t',0,14))\n",
    "print(challenge.count('th'))"
   ]
  },
  {
   "cell_type": "code",
   "execution_count": 28,
   "id": "e0b631eb",
   "metadata": {},
   "outputs": [
    {
     "name": "stdout",
     "output_type": "stream",
     "text": [
      "False\n",
      "True\n"
     ]
    }
   ],
   "source": [
    "# endwith():check if a string ends with a specific ending, return T or F\n",
    "\n",
    "print(challenge.endswith('y'))\n",
    "print(challenge.endswith('hon'))"
   ]
  },
  {
   "cell_type": "code",
   "execution_count": null,
   "id": "3c308aa1",
   "metadata": {},
   "outputs": [
    {
     "name": "stdout",
     "output_type": "stream",
     "text": [
      "thirty  days    of      python\n",
      "thirty    days      of        python\n"
     ]
    }
   ],
   "source": [
    "# expandtabs():replace tab character with space\n",
    "\n",
    "challenge2 = 'thirty\\tdays\\tof\\tpython'\n",
    "print(challenge2.expandtabs())\n",
    "print(challenge2.expandtabs(10))"
   ]
  },
  {
   "cell_type": "code",
   "execution_count": 30,
   "id": "ea19551b",
   "metadata": {},
   "outputs": [
    {
     "name": "stdout",
     "output_type": "stream",
     "text": [
      "2\n",
      "0\n",
      "-1\n"
     ]
    }
   ],
   "source": [
    "# find(): Returns the index of the first occurrence of a substring, if not found returns -1\n",
    "# challenge  = 'thirty days of python'\n",
    "\n",
    "print(challenge.find('i'))\n",
    "print(challenge.find('th'))\n",
    "print(challenge.find('b'))"
   ]
  },
  {
   "cell_type": "code",
   "execution_count": 31,
   "id": "fa0f1e07",
   "metadata": {},
   "outputs": [
    {
     "name": "stdout",
     "output_type": "stream",
     "text": [
      "16\n",
      "19\n",
      "-1\n"
     ]
    }
   ],
   "source": [
    "# rfind(): Returns the index of the last occurrence of a substring, if not found returns -1\n",
    "# challenge  = 'thirty days of python'\n",
    "\n",
    "print(challenge.rfind('y'))\n",
    "print(challenge.rfind('on'))\n",
    "print(challenge.rfind('w'))"
   ]
  },
  {
   "cell_type": "code",
   "execution_count": 32,
   "id": "6ba383a0",
   "metadata": {},
   "outputs": [
    {
     "name": "stdout",
     "output_type": "stream",
     "text": [
      "I am working in GIA USA as Analyst.\n"
     ]
    }
   ],
   "source": [
    "# format(): formats string into a nicer output\n",
    "\n",
    "company = 'GIA'\n",
    "position = 'Analyst'\n",
    "country = 'USA'\n",
    "\n",
    "sentence = 'I am working in {} {} as {}.'.format(company, country, position)\n",
    "print(sentence)"
   ]
  },
  {
   "cell_type": "code",
   "execution_count": null,
   "id": "0204db9e",
   "metadata": {},
   "outputs": [
    {
     "name": "stdout",
     "output_type": "stream",
     "text": [
      "7\n",
      "7\n"
     ]
    }
   ],
   "source": [
    "# index(): Returns the lowest index of a substring\n",
    "# additional arguments indicate starting and ending index (default 0 and string length - 1)\n",
    "# If the substring is not found it raises a valueError.\n",
    "# index() returns the first occurrence from the left.\n",
    "# challenge  = 'thirty days of python'\n",
    "\n",
    "sub_string = 'da'\n",
    "\n",
    "print(challenge.index(sub_string))\n",
    "print(challenge.index(sub_string, 2))\n",
    "# print(challenge.index(sub_string, 9)) ValueError: substring not found\n"
   ]
  },
  {
   "cell_type": "code",
   "execution_count": null,
   "id": "ef6ec036",
   "metadata": {},
   "outputs": [
    {
     "name": "stdout",
     "output_type": "stream",
     "text": [
      "7\n",
      "19\n"
     ]
    }
   ],
   "source": [
    "# rindex(): Returns the highest index of a substring\n",
    "# additional arguments indicate starting and ending index (default 0 and string length - 1)\n",
    "# If the substring is not found it raises a valueError.\n",
    "# rindex() returns the last occurrence from the right.\n",
    "# Both index() and rindex() return the first character index where the substring is found:\n",
    "\n",
    "# challenge  = 'thirty days of python'\n",
    "# sub_string = 'da'\n",
    "\n",
    "print(challenge.rindex(sub_string))\n",
    "print(challenge.rindex('on', 10 ))"
   ]
  },
  {
   "cell_type": "code",
   "execution_count": null,
   "id": "472c9c3e",
   "metadata": {},
   "outputs": [
    {
     "name": "stdout",
     "output_type": "stream",
     "text": [
      "True\n",
      "True\n",
      "False\n",
      "False\n"
     ]
    }
   ],
   "source": [
    "#isalnum(): Checks alphanumeric character, return T or F\n",
    "\n",
    "example_1 = 'ThirtyDaysPython'\n",
    "example_2 = '30DaysPython'\n",
    "example_3 = 'thirty days of python' # space is not an alphanumeric character\n",
    "example_4 = 'thirty days of python 2019' # space is not an alphanumeric character\n",
    "\n",
    "print(example_1.isalnum())\n",
    "print(example_2.isalnum())\n",
    "print(example_3.isalnum())\n",
    "print(example_4.isalnum())\n"
   ]
  },
  {
   "cell_type": "code",
   "execution_count": null,
   "id": "bc1520fd",
   "metadata": {},
   "outputs": [
    {
     "name": "stdout",
     "output_type": "stream",
     "text": [
      "True\n",
      "False\n",
      "False\n",
      "False\n",
      "False\n"
     ]
    }
   ],
   "source": [
    "# isalpha(): Checks if all string elements are alphabet characters (a-z and A-Z)\n",
    "\n",
    "print(example_1.isalpha())\n",
    "print(example_2.isalpha())\n",
    "print(example_3.isalpha()) # space is excluded\n",
    "print(example_4.isalpha())\n",
    "\n",
    "num = '123'\n",
    "print(num.isalpha())"
   ]
  },
  {
   "cell_type": "code",
   "execution_count": null,
   "id": "6a2993c8",
   "metadata": {},
   "outputs": [
    {
     "name": "stdout",
     "output_type": "stream",
     "text": [
      "True\n",
      "False\n"
     ]
    }
   ],
   "source": [
    "# isdecimal(): Checks if all characters in a string are decimal (0-9)\n",
    "# num = '123'\n",
    "\n",
    "num_2 = '12 3'\n",
    "\n",
    "print(num.isdecimal())\n",
    "print(num_2.isdecimal()) # space is excluded"
   ]
  },
  {
   "cell_type": "code",
   "execution_count": null,
   "id": "628ecf9e",
   "metadata": {},
   "outputs": [
    {
     "name": "stdout",
     "output_type": "stream",
     "text": [
      "True\n",
      "True\n",
      "False\n"
     ]
    }
   ],
   "source": [
    "# isdigit(): Checks if all characters in a string are numbers (0-9 and some other unicode characters for numbers)\n",
    "\n",
    "example_5 = '30'\n",
    "example_6 = '\\u00B2'\n",
    "\n",
    "print(example_5.isdigit())\n",
    "print(example_6.isdigit())\n",
    "print(num_2.isdigit()) # space is excluded"
   ]
  },
  {
   "cell_type": "code",
   "execution_count": 44,
   "id": "b658e684",
   "metadata": {},
   "outputs": [
    {
     "name": "stdout",
     "output_type": "stream",
     "text": [
      "True\n",
      "True\n",
      "False\n",
      "True\n"
     ]
    }
   ],
   "source": [
    "# isnumeric():  Checks if all characters in a string are numbers or number related (just like isdigit(), but accepts more symbols, like ½)\n",
    "\n",
    "example_7 = '10.5'\n",
    "example_8 = '\\u00BD'\n",
    "\n",
    "print(num.isnumeric())\n",
    "print(example_5.isnumeric())\n",
    "print(example_7.isnumeric())\n",
    "print(example_8.isnumeric())\n"
   ]
  },
  {
   "cell_type": "code",
   "execution_count": null,
   "id": "f300e16f",
   "metadata": {},
   "outputs": [
    {
     "name": "stdout",
     "output_type": "stream",
     "text": [
      "False\n",
      "True\n"
     ]
    }
   ],
   "source": [
    "# isidentifier(): Checks for a valid identifier - it checks if a string is a valid variable name\n",
    "\n",
    "print(example_2.isidentifier()) # starts with a number 30\n",
    "print(example_1.isidentifier())"
   ]
  },
  {
   "cell_type": "code",
   "execution_count": 47,
   "id": "bd0feee0",
   "metadata": {},
   "outputs": [
    {
     "name": "stdout",
     "output_type": "stream",
     "text": [
      "False\n",
      "False\n"
     ]
    }
   ],
   "source": [
    "# islower(): Checks if all alphabet characters in the string are lowercase\n",
    "# isupper(): Checks if all alphabet characters in the string are uppercase\n",
    "\n",
    "print(example_1.islower())\n",
    "print(example_3.isupper())"
   ]
  },
  {
   "cell_type": "code",
   "execution_count": 49,
   "id": "8873ea33",
   "metadata": {},
   "outputs": [
    {
     "name": "stdout",
     "output_type": "stream",
     "text": [
      "HTMLCSSJavaScriptReact\n",
      "HTML! CSS! JavaScript! React\n",
      "HTML CSS JavaScript React\n"
     ]
    }
   ],
   "source": [
    "# join(): Returns a concatenated string\n",
    "\n",
    "web_tech = ['HTML', 'CSS', 'JavaScript', 'React']\n",
    "result_join = ''.join(web_tech)\n",
    "result_join_2 = '! '.join(web_tech)\n",
    "result_join_3 =' '.join(web_tech)\n",
    "\n",
    "print(result_join)\n",
    "print(result_join_2)\n",
    "print(result_join_3)"
   ]
  },
  {
   "cell_type": "code",
   "execution_count": 50,
   "id": "0cd83d9f",
   "metadata": {},
   "outputs": [
    {
     "name": "stdout",
     "output_type": "stream",
     "text": [
      "irty days of py\n"
     ]
    }
   ],
   "source": [
    "# strip(): Removes all given characters starting from the beginning and end of the string\n",
    "\n",
    "words = 'thirty days of pythoonnn'\n",
    "\n",
    "print(words.strip('thon'))"
   ]
  },
  {
   "cell_type": "code",
   "execution_count": 51,
   "id": "ae340f7e",
   "metadata": {},
   "outputs": [
    {
     "name": "stdout",
     "output_type": "stream",
     "text": [
      "thirty days of coding\n"
     ]
    }
   ],
   "source": [
    "# replace(): Replaces substring with a given string\n",
    "# challenge = 'thirty days of python'\n",
    "\n",
    "print(challenge.replace('python','coding'))\n"
   ]
  },
  {
   "cell_type": "code",
   "execution_count": 54,
   "id": "d5ab3085",
   "metadata": {},
   "outputs": [
    {
     "name": "stdout",
     "output_type": "stream",
     "text": [
      "['thirty', 'days', 'of', 'python']\n",
      "['thirty days of python']\n",
      "['thirty', ' days', ' of', ' python']\n"
     ]
    }
   ],
   "source": [
    "# split(): Splits the string, using given string or space as a separator\n",
    "# challenge = 'thirty days of python\n",
    "\n",
    "challenge3 =  'thirty, days, of, python'\n",
    "\n",
    "print(challenge.split())\n",
    "print(challenge.split(','))\n",
    "print(challenge3.split(','))"
   ]
  },
  {
   "cell_type": "code",
   "execution_count": 55,
   "id": "9dcb6419",
   "metadata": {},
   "outputs": [
    {
     "name": "stdout",
     "output_type": "stream",
     "text": [
      "Thirty Days Of Python\n"
     ]
    }
   ],
   "source": [
    "# title(): Returns a title cased string\n",
    "\n",
    "print(challenge.title())"
   ]
  },
  {
   "cell_type": "code",
   "execution_count": 56,
   "id": "e772c80e",
   "metadata": {},
   "outputs": [
    {
     "name": "stdout",
     "output_type": "stream",
     "text": [
      "THIRTY DAYS OF PYTHON\n",
      "tHIRTYdAYSpYTHON\n"
     ]
    }
   ],
   "source": [
    "# swapcase(): Converts all uppercase characters to lowercase and all lowercase characters to uppercase characters\n",
    "\n",
    "print(challenge.swapcase())\n",
    "print(example_1.swapcase())\n"
   ]
  },
  {
   "cell_type": "code",
   "execution_count": 57,
   "id": "2ede7c88",
   "metadata": {},
   "outputs": [
    {
     "name": "stdout",
     "output_type": "stream",
     "text": [
      "True\n",
      "True\n"
     ]
    }
   ],
   "source": [
    "# startswith(): Checks if String Starts with the Specified String\n",
    "\n",
    "print(challenge.startswith('thi'))\n",
    "print(example_2.startswith('30'))"
   ]
  }
 ],
 "metadata": {
  "kernelspec": {
   "display_name": "Python",
   "language": "python",
   "name": "python3"
  },
  "language_info": {
   "codemirror_mode": {
    "name": "ipython",
    "version": 3
   },
   "file_extension": ".py",
   "mimetype": "text/x-python",
   "name": "python",
   "nbconvert_exporter": "python",
   "pygments_lexer": "ipython3",
   "version": "3.12.8"
  }
 },
 "nbformat": 4,
 "nbformat_minor": 5
}
