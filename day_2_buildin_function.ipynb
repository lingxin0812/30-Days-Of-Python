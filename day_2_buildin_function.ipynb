{
 "cells": [
  {
   "cell_type": "code",
   "execution_count": 1,
   "id": "b03424cc",
   "metadata": {},
   "outputs": [],
   "source": [
    "first_name = 'owen'\n",
    "last_name = 'jackson'\n",
    "full_name = 'owen jackson'\n",
    "country = 'USA'\n",
    "city = 'CF'\n",
    "age = 8\n",
    "year = 2017\n",
    "is_married = False\n",
    "is_true = 8\n",
    "is_light_on = False"
   ]
  },
  {
   "cell_type": "code",
   "execution_count": 2,
   "id": "3d7c9be6",
   "metadata": {},
   "outputs": [],
   "source": [
    "state, city, company, title = 'CA', 'SD', 'GIA', 'Analyst'"
   ]
  },
  {
   "cell_type": "code",
   "execution_count": 3,
   "id": "cdf12fe0",
   "metadata": {},
   "outputs": [
    {
     "name": "stdout",
     "output_type": "stream",
     "text": [
      "<class 'str'>\n",
      "<class 'str'>\n",
      "<class 'str'>\n",
      "<class 'str'>\n",
      "<class 'str'>\n",
      "<class 'int'>\n",
      "<class 'int'>\n",
      "<class 'bool'>\n",
      "<class 'int'>\n",
      "<class 'bool'>\n"
     ]
    }
   ],
   "source": [
    "print(type(first_name))\n",
    "print(type(last_name))\n",
    "print(type(full_name))\n",
    "print(type(country))\n",
    "print(type(city))\n",
    "print(type(age))\n",
    "print(type(year))\n",
    "print(type(is_married))\n",
    "print(type(is_true))\n",
    "print(type(is_light_on))"
   ]
  },
  {
   "cell_type": "code",
   "execution_count": 4,
   "id": "2b9229e4",
   "metadata": {},
   "outputs": [
    {
     "name": "stdout",
     "output_type": "stream",
     "text": [
      "4\n",
      "7\n"
     ]
    }
   ],
   "source": [
    "print(len(first_name))\n",
    "print(len(last_name))"
   ]
  },
  {
   "cell_type": "code",
   "execution_count": 5,
   "id": "db882a47",
   "metadata": {},
   "outputs": [],
   "source": [
    "num_one = 5\n",
    "num_two = 4\n"
   ]
  },
  {
   "cell_type": "code",
   "execution_count": 6,
   "id": "3507efbc",
   "metadata": {},
   "outputs": [
    {
     "name": "stdout",
     "output_type": "stream",
     "text": [
      "9\n"
     ]
    }
   ],
   "source": [
    "variable_total = num_one + num_two\n",
    "print(variable_total)"
   ]
  },
  {
   "cell_type": "code",
   "execution_count": 7,
   "id": "f531007a",
   "metadata": {},
   "outputs": [
    {
     "name": "stdout",
     "output_type": "stream",
     "text": [
      "-1\n"
     ]
    }
   ],
   "source": [
    "variable_diff = num_two - num_one\n",
    "print(variable_diff)"
   ]
  },
  {
   "cell_type": "code",
   "execution_count": 8,
   "id": "cb17aa7b",
   "metadata": {},
   "outputs": [
    {
     "name": "stdout",
     "output_type": "stream",
     "text": [
      "20\n"
     ]
    }
   ],
   "source": [
    "variable_product = num_one * num_two\n",
    "print(variable_product)"
   ]
  },
  {
   "cell_type": "code",
   "execution_count": 9,
   "id": "23530b95",
   "metadata": {},
   "outputs": [
    {
     "name": "stdout",
     "output_type": "stream",
     "text": [
      "1.25\n"
     ]
    }
   ],
   "source": [
    "variable_division = num_one/num_two\n",
    "print(variable_division)"
   ]
  },
  {
   "cell_type": "code",
   "execution_count": null,
   "id": "10ceed40",
   "metadata": {},
   "outputs": [
    {
     "name": "stdout",
     "output_type": "stream",
     "text": [
      "1\n"
     ]
    }
   ],
   "source": [
    "# Gives the remainder\n",
    "variable_remainder = num_one%num_two\n",
    "print(variable_remainder)"
   ]
  },
  {
   "cell_type": "code",
   "execution_count": 11,
   "id": "acfc6aca",
   "metadata": {},
   "outputs": [
    {
     "name": "stdout",
     "output_type": "stream",
     "text": [
      "625\n"
     ]
    }
   ],
   "source": [
    "variable_exp = pow(num_one,num_two)\n",
    "print(variable_exp)"
   ]
  },
  {
   "cell_type": "code",
   "execution_count": null,
   "id": "a3687ee4",
   "metadata": {},
   "outputs": [
    {
     "name": "stdout",
     "output_type": "stream",
     "text": [
      "1\n"
     ]
    }
   ],
   "source": [
    "# Division without the remainder\n",
    "floor_division = num_one // num_two\n",
    "print(floor_division)"
   ]
  },
  {
   "cell_type": "code",
   "execution_count": 15,
   "id": "5ca27949",
   "metadata": {},
   "outputs": [
    {
     "name": "stdout",
     "output_type": "stream",
     "text": [
      "2827.4333882308138\n"
     ]
    }
   ],
   "source": [
    "import math\n",
    "radius = 30\n",
    "area_of_circle =  math.pi * radius ** 2\n",
    "print(area_of_circle)"
   ]
  },
  {
   "cell_type": "code",
   "execution_count": 17,
   "id": "2946cfa2",
   "metadata": {},
   "outputs": [
    {
     "name": "stdout",
     "output_type": "stream",
     "text": [
      "188.49555921538757\n"
     ]
    }
   ],
   "source": [
    "circum_of_circle = math.pi * 2 * radius\n",
    "print(circum_of_circle)"
   ]
  },
  {
   "cell_type": "code",
   "execution_count": 20,
   "id": "f7bd64f9",
   "metadata": {},
   "outputs": [
    {
     "name": "stdout",
     "output_type": "stream",
     "text": [
      "314.1592653589793\n"
     ]
    }
   ],
   "source": [
    "radius = float(input('what is radius'))\n",
    "parea_of_circle =  math.pi * radius ** 2\n",
    "print(parea_of_circle)"
   ]
  },
  {
   "cell_type": "code",
   "execution_count": 21,
   "id": "88a0d1bd",
   "metadata": {},
   "outputs": [
    {
     "name": "stdout",
     "output_type": "stream",
     "text": [
      "\n",
      "Here is a list of the Python keywords.  Enter any keyword to get more help.\n",
      "\n",
      "False               class               from                or\n",
      "None                continue            global              pass\n",
      "True                def                 if                  raise\n",
      "and                 del                 import              return\n",
      "as                  elif                in                  try\n",
      "assert              else                is                  while\n",
      "async               except              lambda              with\n",
      "await               finally             nonlocal            yield\n",
      "break               for                 not                 \n",
      "\n"
     ]
    }
   ],
   "source": [
    "help('keywords')"
   ]
  },
  {
   "cell_type": "code",
   "execution_count": null,
   "id": "4a35d21d",
   "metadata": {},
   "outputs": [],
   "source": []
  }
 ],
 "metadata": {
  "kernelspec": {
   "display_name": "Python",
   "language": "python",
   "name": "python3"
  },
  "language_info": {
   "codemirror_mode": {
    "name": "ipython",
    "version": 3
   },
   "file_extension": ".py",
   "mimetype": "text/x-python",
   "name": "python",
   "nbconvert_exporter": "python",
   "pygments_lexer": "ipython3",
   "version": "3.12.8"
  }
 },
 "nbformat": 4,
 "nbformat_minor": 5
}
